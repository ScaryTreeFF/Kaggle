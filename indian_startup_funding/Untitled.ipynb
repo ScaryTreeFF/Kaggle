{
 "cells": [
  {
   "cell_type": "code",
   "execution_count": 1,
   "metadata": {},
   "outputs": [],
   "source": [
    "import pandas as pd\n",
    "import numpy as np\n",
    "import re\n",
    "import time\n",
    "import seaborn as sns\n",
    "from matplotlib import pyplot as plt\n",
    "%matplotlib inline"
   ]
  },
  {
   "cell_type": "code",
   "execution_count": 2,
   "metadata": {},
   "outputs": [],
   "source": [
    "data = pd.read_csv(\"startup_funding.csv\")"
   ]
  },
  {
   "cell_type": "markdown",
   "metadata": {},
   "source": [
    "## Посмотрим сперва на данные"
   ]
  },
  {
   "cell_type": "code",
   "execution_count": 3,
   "metadata": {},
   "outputs": [
    {
     "data": {
      "text/html": [
       "<div>\n",
       "<style scoped>\n",
       "    .dataframe tbody tr th:only-of-type {\n",
       "        vertical-align: middle;\n",
       "    }\n",
       "\n",
       "    .dataframe tbody tr th {\n",
       "        vertical-align: top;\n",
       "    }\n",
       "\n",
       "    .dataframe thead th {\n",
       "        text-align: right;\n",
       "    }\n",
       "</style>\n",
       "<table border=\"1\" class=\"dataframe\">\n",
       "  <thead>\n",
       "    <tr style=\"text-align: right;\">\n",
       "      <th></th>\n",
       "      <th>SNo</th>\n",
       "      <th>Date</th>\n",
       "      <th>StartupName</th>\n",
       "      <th>IndustryVertical</th>\n",
       "      <th>SubVertical</th>\n",
       "      <th>CityLocation</th>\n",
       "      <th>InvestorsName</th>\n",
       "      <th>InvestmentType</th>\n",
       "      <th>AmountInUSD</th>\n",
       "      <th>Remarks</th>\n",
       "    </tr>\n",
       "  </thead>\n",
       "  <tbody>\n",
       "    <tr>\n",
       "      <th>0</th>\n",
       "      <td>0</td>\n",
       "      <td>01/08/2017</td>\n",
       "      <td>TouchKin</td>\n",
       "      <td>Technology</td>\n",
       "      <td>Predictive Care Platform</td>\n",
       "      <td>Bangalore</td>\n",
       "      <td>Kae Capital</td>\n",
       "      <td>Private Equity</td>\n",
       "      <td>1,300,000</td>\n",
       "      <td>NaN</td>\n",
       "    </tr>\n",
       "    <tr>\n",
       "      <th>1</th>\n",
       "      <td>1</td>\n",
       "      <td>02/08/2017</td>\n",
       "      <td>Ethinos</td>\n",
       "      <td>Technology</td>\n",
       "      <td>Digital Marketing Agency</td>\n",
       "      <td>Mumbai</td>\n",
       "      <td>Triton Investment Advisors</td>\n",
       "      <td>Private Equity</td>\n",
       "      <td>NaN</td>\n",
       "      <td>NaN</td>\n",
       "    </tr>\n",
       "    <tr>\n",
       "      <th>2</th>\n",
       "      <td>2</td>\n",
       "      <td>02/08/2017</td>\n",
       "      <td>Leverage Edu</td>\n",
       "      <td>Consumer Internet</td>\n",
       "      <td>Online platform for Higher Education Services</td>\n",
       "      <td>New Delhi</td>\n",
       "      <td>Kashyap Deorah, Anand Sankeshwar, Deepak Jain,...</td>\n",
       "      <td>Seed Funding</td>\n",
       "      <td>NaN</td>\n",
       "      <td>NaN</td>\n",
       "    </tr>\n",
       "    <tr>\n",
       "      <th>3</th>\n",
       "      <td>3</td>\n",
       "      <td>02/08/2017</td>\n",
       "      <td>Zepo</td>\n",
       "      <td>Consumer Internet</td>\n",
       "      <td>DIY Ecommerce platform</td>\n",
       "      <td>Mumbai</td>\n",
       "      <td>Kunal Shah, LetsVenture, Anupam Mittal, Hetal ...</td>\n",
       "      <td>Seed Funding</td>\n",
       "      <td>500,000</td>\n",
       "      <td>NaN</td>\n",
       "    </tr>\n",
       "    <tr>\n",
       "      <th>4</th>\n",
       "      <td>4</td>\n",
       "      <td>02/08/2017</td>\n",
       "      <td>Click2Clinic</td>\n",
       "      <td>Consumer Internet</td>\n",
       "      <td>healthcare service aggregator</td>\n",
       "      <td>Hyderabad</td>\n",
       "      <td>Narottam Thudi, Shireesh Palle</td>\n",
       "      <td>Seed Funding</td>\n",
       "      <td>850,000</td>\n",
       "      <td>NaN</td>\n",
       "    </tr>\n",
       "  </tbody>\n",
       "</table>\n",
       "</div>"
      ],
      "text/plain": [
       "   SNo        Date   StartupName   IndustryVertical  \\\n",
       "0    0  01/08/2017      TouchKin         Technology   \n",
       "1    1  02/08/2017       Ethinos         Technology   \n",
       "2    2  02/08/2017  Leverage Edu  Consumer Internet   \n",
       "3    3  02/08/2017          Zepo  Consumer Internet   \n",
       "4    4  02/08/2017  Click2Clinic  Consumer Internet   \n",
       "\n",
       "                                     SubVertical CityLocation  \\\n",
       "0                       Predictive Care Platform    Bangalore   \n",
       "1                       Digital Marketing Agency       Mumbai   \n",
       "2  Online platform for Higher Education Services    New Delhi   \n",
       "3                         DIY Ecommerce platform       Mumbai   \n",
       "4                  healthcare service aggregator    Hyderabad   \n",
       "\n",
       "                                       InvestorsName  InvestmentType  \\\n",
       "0                                        Kae Capital  Private Equity   \n",
       "1                         Triton Investment Advisors  Private Equity   \n",
       "2  Kashyap Deorah, Anand Sankeshwar, Deepak Jain,...    Seed Funding   \n",
       "3  Kunal Shah, LetsVenture, Anupam Mittal, Hetal ...    Seed Funding   \n",
       "4                     Narottam Thudi, Shireesh Palle    Seed Funding   \n",
       "\n",
       "  AmountInUSD Remarks  \n",
       "0   1,300,000     NaN  \n",
       "1         NaN     NaN  \n",
       "2         NaN     NaN  \n",
       "3     500,000     NaN  \n",
       "4     850,000     NaN  "
      ]
     },
     "execution_count": 3,
     "metadata": {},
     "output_type": "execute_result"
    }
   ],
   "source": [
    "data.head()"
   ]
  },
  {
   "cell_type": "code",
   "execution_count": 4,
   "metadata": {},
   "outputs": [
    {
     "name": "stdout",
     "output_type": "stream",
     "text": [
      "<class 'pandas.core.frame.DataFrame'>\n",
      "RangeIndex: 2372 entries, 0 to 2371\n",
      "Data columns (total 10 columns):\n",
      "SNo                 2372 non-null int64\n",
      "Date                2372 non-null object\n",
      "StartupName         2372 non-null object\n",
      "IndustryVertical    2201 non-null object\n",
      "SubVertical         1436 non-null object\n",
      "CityLocation        2193 non-null object\n",
      "InvestorsName       2364 non-null object\n",
      "InvestmentType      2371 non-null object\n",
      "AmountInUSD         1525 non-null object\n",
      "Remarks             419 non-null object\n",
      "dtypes: int64(1), object(9)\n",
      "memory usage: 102.0+ KB\n"
     ]
    }
   ],
   "source": [
    "data.info()"
   ]
  },
  {
   "cell_type": "markdown",
   "metadata": {},
   "source": [
    "### Видно что все признаки - объекты, и некоторые из них возможно привести к более выгодным типам, так же видно что SNo - индексный столбец"
   ]
  },
  {
   "cell_type": "code",
   "execution_count": 5,
   "metadata": {},
   "outputs": [],
   "source": [
    "data = data.set_index('SNo')\n",
    "data = data.drop(['Remarks'], axis=1)"
   ]
  },
  {
   "cell_type": "code",
   "execution_count": 6,
   "metadata": {},
   "outputs": [],
   "source": [
    "data['AmountInUSD'] = data['AmountInUSD'].apply(lambda x: float(str(x).replace(\",\", \"\")))\n",
    "data['AmountInUSD'] = pd.to_numeric(data['AmountInUSD'])"
   ]
  },
  {
   "cell_type": "code",
   "execution_count": 7,
   "metadata": {},
   "outputs": [
    {
     "data": {
      "text/html": [
       "<div>\n",
       "<style scoped>\n",
       "    .dataframe tbody tr th:only-of-type {\n",
       "        vertical-align: middle;\n",
       "    }\n",
       "\n",
       "    .dataframe tbody tr th {\n",
       "        vertical-align: top;\n",
       "    }\n",
       "\n",
       "    .dataframe thead th {\n",
       "        text-align: right;\n",
       "    }\n",
       "</style>\n",
       "<table border=\"1\" class=\"dataframe\">\n",
       "  <thead>\n",
       "    <tr style=\"text-align: right;\">\n",
       "      <th></th>\n",
       "      <th>Date</th>\n",
       "      <th>StartupName</th>\n",
       "      <th>IndustryVertical</th>\n",
       "      <th>SubVertical</th>\n",
       "      <th>CityLocation</th>\n",
       "      <th>InvestorsName</th>\n",
       "      <th>InvestmentType</th>\n",
       "      <th>AmountInUSD</th>\n",
       "    </tr>\n",
       "    <tr>\n",
       "      <th>SNo</th>\n",
       "      <th></th>\n",
       "      <th></th>\n",
       "      <th></th>\n",
       "      <th></th>\n",
       "      <th></th>\n",
       "      <th></th>\n",
       "      <th></th>\n",
       "      <th></th>\n",
       "    </tr>\n",
       "  </thead>\n",
       "  <tbody>\n",
       "    <tr>\n",
       "      <th>2103</th>\n",
       "      <td>12/05.2015</td>\n",
       "      <td>Mobiefit</td>\n",
       "      <td>Mobile Fitness App</td>\n",
       "      <td>NaN</td>\n",
       "      <td>Goa</td>\n",
       "      <td>Prototyze</td>\n",
       "      <td>Seed Funding</td>\n",
       "      <td>NaN</td>\n",
       "    </tr>\n",
       "    <tr>\n",
       "      <th>2104</th>\n",
       "      <td>12/05.2015</td>\n",
       "      <td>Plancess</td>\n",
       "      <td>Online Education Platform</td>\n",
       "      <td>NaN</td>\n",
       "      <td>Mumbai</td>\n",
       "      <td>Rajendra Gogri,  Chandrakant Gogri</td>\n",
       "      <td>Seed Funding</td>\n",
       "      <td>2000000.0</td>\n",
       "    </tr>\n",
       "  </tbody>\n",
       "</table>\n",
       "</div>"
      ],
      "text/plain": [
       "            Date StartupName           IndustryVertical SubVertical  \\\n",
       "SNo                                                                   \n",
       "2103  12/05.2015    Mobiefit         Mobile Fitness App         NaN   \n",
       "2104  12/05.2015    Plancess  Online Education Platform         NaN   \n",
       "\n",
       "     CityLocation                       InvestorsName InvestmentType  \\\n",
       "SNo                                                                    \n",
       "2103          Goa                           Prototyze   Seed Funding   \n",
       "2104       Mumbai  Rajendra Gogri,  Chandrakant Gogri   Seed Funding   \n",
       "\n",
       "      AmountInUSD  \n",
       "SNo                \n",
       "2103          NaN  \n",
       "2104    2000000.0  "
      ]
     },
     "execution_count": 7,
     "metadata": {},
     "output_type": "execute_result"
    }
   ],
   "source": [
    "data[data['Date'] == '12/05.2015']"
   ]
  },
  {
   "cell_type": "markdown",
   "metadata": {},
   "source": [
    "### В дате есть опечатки, их необходимо исправить"
   ]
  },
  {
   "cell_type": "code",
   "execution_count": 8,
   "metadata": {},
   "outputs": [],
   "source": [
    "data['Date'] = data['Date'].str.replace('//', '/').str.replace('.', '/')\n",
    "data['Date'] = pd.to_datetime(data['Date'],format='%d/%m/%Y')"
   ]
  },
  {
   "cell_type": "markdown",
   "metadata": {},
   "source": [
    "## Посмотрим на распределение финансирования стартапов по месяцам"
   ]
  },
  {
   "cell_type": "code",
   "execution_count": 9,
   "metadata": {},
   "outputs": [
    {
     "data": {
      "image/png": "[encoded data removed]",
      "text/plain": [
       "<Figure size 1080x576 with 1 Axes>"
      ]
     },
     "metadata": {},
     "output_type": "display_data"
    }
   ],
   "source": [
    "tmp = data.groupby(by=[data.Date.dt.year, data.Date.dt.month])['StartupName'].count()\n",
    "\n",
    "color = sns.color_palette()\n",
    "plt.figure(figsize=(15,8))\n",
    "sns.barplot(tmp.index, tmp.values, color=color[0])\n",
    "plt.xticks(rotation=60)\n",
    "plt.ylabel('Number of fundings made', fontsize=12)\n",
    "plt.title(\"Number of funds per month\", fontsize=16)\n",
    "plt.show()"
   ]
  },
  {
   "cell_type": "markdown",
   "metadata": {},
   "source": [
    "### Видно что пики приходятся на Январь-Февраль 2016 года, так же на Август-Сентябрь 2015 года. Спады же в начале 2015 года и в феврале 2017. Спад в августе 2017 гда обусловлен тем, что это последний месяц сбора данных и не все взносы могут быть отражены в данных"
   ]
  },
  {
   "cell_type": "markdown",
   "metadata": {},
   "source": [
    "# Посмотрим в какие области больше всего вкладывают деньги"
   ]
  },
  {
   "cell_type": "code",
   "execution_count": 10,
   "metadata": {},
   "outputs": [
    {
     "data": {
      "image/png": "[encoded data removed]",
      "text/plain": [
       "<Figure size 1080x576 with 1 Axes>"
      ]
     },
     "metadata": {},
     "output_type": "display_data"
    }
   ],
   "source": [
    "industry = data['IndustryVertical'].value_counts().head(15)\n",
    "plt.figure(figsize=(15,8))\n",
    "sns.barplot(industry.index, industry.values, color=color[0])\n",
    "plt.xticks(rotation=90)\n",
    "plt.ylabel('Number of fundings made', fontsize=12)\n",
    "plt.title(\"Industry vertical of startups with number of funding\", fontsize=16)\n",
    "plt.show()\n",
    "\n",
    "#Consumer internet and Technology are most popular"
   ]
  },
  {
   "cell_type": "markdown",
   "metadata": {},
   "source": [
    "## Заметна тенденция вкладываться в стартапы связанные с Интернетом и технологиями в целом, а так же с Электронной коммерцией "
   ]
  },
  {
   "cell_type": "markdown",
   "metadata": {},
   "source": [
    "### Есть подозрение что eCommerce и ECommerce это одно и то же, а не разные категории"
   ]
  },
  {
   "cell_type": "code",
   "execution_count": 11,
   "metadata": {},
   "outputs": [
    {
     "data": {
      "text/html": [
       "<div>\n",
       "<style scoped>\n",
       "    .dataframe tbody tr th:only-of-type {\n",
       "        vertical-align: middle;\n",
       "    }\n",
       "\n",
       "    .dataframe tbody tr th {\n",
       "        vertical-align: top;\n",
       "    }\n",
       "\n",
       "    .dataframe thead th {\n",
       "        text-align: right;\n",
       "    }\n",
       "</style>\n",
       "<table border=\"1\" class=\"dataframe\">\n",
       "  <thead>\n",
       "    <tr style=\"text-align: right;\">\n",
       "      <th></th>\n",
       "      <th>Date_x</th>\n",
       "      <th>StartupName_x</th>\n",
       "      <th>IndustryVertical_x</th>\n",
       "      <th>SubVertical</th>\n",
       "      <th>CityLocation_x</th>\n",
       "      <th>InvestorsName_x</th>\n",
       "      <th>InvestmentType_x</th>\n",
       "      <th>AmountInUSD_x</th>\n",
       "      <th>Date_y</th>\n",
       "      <th>StartupName_y</th>\n",
       "      <th>IndustryVertical_y</th>\n",
       "      <th>CityLocation_y</th>\n",
       "      <th>InvestorsName_y</th>\n",
       "      <th>InvestmentType_y</th>\n",
       "      <th>AmountInUSD_y</th>\n",
       "    </tr>\n",
       "  </thead>\n",
       "  <tbody>\n",
       "    <tr>\n",
       "      <th>0</th>\n",
       "      <td>2017-05-18</td>\n",
       "      <td>Paytm</td>\n",
       "      <td>ECommerce</td>\n",
       "      <td>Mobile Wallet &amp; ECommerce platform</td>\n",
       "      <td>Bangalore</td>\n",
       "      <td>SoftBank Group</td>\n",
       "      <td>Private Equity</td>\n",
       "      <td>1.400000e+09</td>\n",
       "      <td>2016-08-30</td>\n",
       "      <td>Paytm</td>\n",
       "      <td>eCommerce</td>\n",
       "      <td>Bangalore</td>\n",
       "      <td>MediaTek Inc.</td>\n",
       "      <td>Private Equity</td>\n",
       "      <td>6.000000e+07</td>\n",
       "    </tr>\n",
       "    <tr>\n",
       "      <th>1</th>\n",
       "      <td>2017-03-03</td>\n",
       "      <td>Paytm Marketplace</td>\n",
       "      <td>ECommerce</td>\n",
       "      <td>ECommerce Marketplace</td>\n",
       "      <td>Bangalore</td>\n",
       "      <td>Alibaba</td>\n",
       "      <td>Private Equity</td>\n",
       "      <td>2.000000e+08</td>\n",
       "      <td>2017-03-21</td>\n",
       "      <td>Flipkart</td>\n",
       "      <td>eCommerce</td>\n",
       "      <td>Bangalore</td>\n",
       "      <td>Microsoft, eBay, Tencent Holdings</td>\n",
       "      <td>Private Equity</td>\n",
       "      <td>1.400000e+09</td>\n",
       "    </tr>\n",
       "    <tr>\n",
       "      <th>2</th>\n",
       "      <td>2016-01-12</td>\n",
       "      <td>Shopclues</td>\n",
       "      <td>ECommerce</td>\n",
       "      <td>ECommerce Marketplace</td>\n",
       "      <td>Gurgaon</td>\n",
       "      <td>GIC, Tiger Global Management, Nexus Venture Pa...</td>\n",
       "      <td>Private Equity</td>\n",
       "      <td>1.000000e+08</td>\n",
       "      <td>2017-03-21</td>\n",
       "      <td>Flipkart</td>\n",
       "      <td>eCommerce</td>\n",
       "      <td>Bangalore</td>\n",
       "      <td>Microsoft, eBay, Tencent Holdings</td>\n",
       "      <td>Private Equity</td>\n",
       "      <td>1.400000e+09</td>\n",
       "    </tr>\n",
       "    <tr>\n",
       "      <th>3</th>\n",
       "      <td>2017-03-28</td>\n",
       "      <td>Fynd</td>\n",
       "      <td>ECommerce</td>\n",
       "      <td>Online fashion marketplace</td>\n",
       "      <td>Mumbai</td>\n",
       "      <td>Venture Catalysts</td>\n",
       "      <td>Private Equity</td>\n",
       "      <td>5.000000e+05</td>\n",
       "      <td>2017-04-26</td>\n",
       "      <td>StalkBuyLove</td>\n",
       "      <td>eCommerce</td>\n",
       "      <td>New Delhi</td>\n",
       "      <td>Trifecta Capital</td>\n",
       "      <td>Private Equity</td>\n",
       "      <td>1.000000e+06</td>\n",
       "    </tr>\n",
       "    <tr>\n",
       "      <th>4</th>\n",
       "      <td>2017-02-17</td>\n",
       "      <td>Urban Ladder</td>\n",
       "      <td>ECommerce</td>\n",
       "      <td>Online Furniture Store</td>\n",
       "      <td>Bangalore</td>\n",
       "      <td>Kalaari Capital, SAIF Partners, Steadview Capi...</td>\n",
       "      <td>Private Equity</td>\n",
       "      <td>1.520000e+07</td>\n",
       "      <td>2016-08-24</td>\n",
       "      <td>UrbanLadder</td>\n",
       "      <td>eCommerce</td>\n",
       "      <td>Mumbai</td>\n",
       "      <td>Trifecta Capital</td>\n",
       "      <td>Private Equity</td>\n",
       "      <td>3.000000e+06</td>\n",
       "    </tr>\n",
       "    <tr>\n",
       "      <th>5</th>\n",
       "      <td>2016-03-14</td>\n",
       "      <td>PinkBlue</td>\n",
       "      <td>ECommerce</td>\n",
       "      <td>Medical Supplies eTailer</td>\n",
       "      <td>Bangalore</td>\n",
       "      <td>Hari Krishna, Ajay Modani, Dr V Ravinder, Anir...</td>\n",
       "      <td>Seed Funding</td>\n",
       "      <td>2.236080e+05</td>\n",
       "      <td>2016-05-04</td>\n",
       "      <td>MyDentistChoice</td>\n",
       "      <td>eCommerce</td>\n",
       "      <td>Hyderabad</td>\n",
       "      <td>Undisclosed investors</td>\n",
       "      <td>Seed Funding</td>\n",
       "      <td>1.500000e+05</td>\n",
       "    </tr>\n",
       "  </tbody>\n",
       "</table>\n",
       "</div>"
      ],
      "text/plain": [
       "      Date_x      StartupName_x IndustryVertical_x  \\\n",
       "0 2017-05-18              Paytm          ECommerce   \n",
       "1 2017-03-03  Paytm Marketplace          ECommerce   \n",
       "2 2016-01-12          Shopclues          ECommerce   \n",
       "3 2017-03-28               Fynd          ECommerce   \n",
       "4 2017-02-17       Urban Ladder          ECommerce   \n",
       "5 2016-03-14           PinkBlue          ECommerce   \n",
       "\n",
       "                          SubVertical CityLocation_x  \\\n",
       "0  Mobile Wallet & ECommerce platform      Bangalore   \n",
       "1               ECommerce Marketplace      Bangalore   \n",
       "2               ECommerce Marketplace        Gurgaon   \n",
       "3          Online fashion marketplace         Mumbai   \n",
       "4              Online Furniture Store      Bangalore   \n",
       "5            Medical Supplies eTailer      Bangalore   \n",
       "\n",
       "                                     InvestorsName_x InvestmentType_x  \\\n",
       "0                                     SoftBank Group   Private Equity   \n",
       "1                                            Alibaba   Private Equity   \n",
       "2  GIC, Tiger Global Management, Nexus Venture Pa...   Private Equity   \n",
       "3                                  Venture Catalysts   Private Equity   \n",
       "4  Kalaari Capital, SAIF Partners, Steadview Capi...   Private Equity   \n",
       "5  Hari Krishna, Ajay Modani, Dr V Ravinder, Anir...     Seed Funding   \n",
       "\n",
       "   AmountInUSD_x     Date_y    StartupName_y IndustryVertical_y  \\\n",
       "0   1.400000e+09 2016-08-30            Paytm          eCommerce   \n",
       "1   2.000000e+08 2017-03-21         Flipkart          eCommerce   \n",
       "2   1.000000e+08 2017-03-21         Flipkart          eCommerce   \n",
       "3   5.000000e+05 2017-04-26     StalkBuyLove          eCommerce   \n",
       "4   1.520000e+07 2016-08-24      UrbanLadder          eCommerce   \n",
       "5   2.236080e+05 2016-05-04  MyDentistChoice          eCommerce   \n",
       "\n",
       "  CityLocation_y                    InvestorsName_y InvestmentType_y  \\\n",
       "0      Bangalore                      MediaTek Inc.   Private Equity   \n",
       "1      Bangalore  Microsoft, eBay, Tencent Holdings   Private Equity   \n",
       "2      Bangalore  Microsoft, eBay, Tencent Holdings   Private Equity   \n",
       "3      New Delhi                   Trifecta Capital   Private Equity   \n",
       "4         Mumbai                   Trifecta Capital   Private Equity   \n",
       "5      Hyderabad              Undisclosed investors     Seed Funding   \n",
       "\n",
       "   AmountInUSD_y  \n",
       "0   6.000000e+07  \n",
       "1   1.400000e+09  \n",
       "2   1.400000e+09  \n",
       "3   1.000000e+06  \n",
       "4   3.000000e+06  \n",
       "5   1.500000e+05  "
      ]
     },
     "execution_count": 11,
     "metadata": {},
     "output_type": "execute_result"
    }
   ],
   "source": [
    "ECommerce = data[data['IndustryVertical'] == 'ECommerce']\n",
    "eCommerce = data[data['IndustryVertical'] == 'eCommerce']\n",
    "pd.merge(ECommerce,eCommerce, on='SubVertical')"
   ]
  },
  {
   "cell_type": "markdown",
   "metadata": {},
   "source": [
    "У этих категорий есть одинаковые подкатегории, то есть они пересекаются, можно предположить что это одна и та же категория, в которой были сделаны опечатки несколько раз или разные люди собирали данные и каждый называл по-своему.\n",
    "Приведем названия к единому виду"
   ]
  },
  {
   "cell_type": "code",
   "execution_count": 12,
   "metadata": {},
   "outputs": [],
   "source": [
    "data.replace({'eCommerce' : 'ECommerce'}, inplace=True)\n",
    "data.replace({'Ecommerce' : 'ECommerce'}, inplace=True)"
   ]
  },
  {
   "cell_type": "code",
   "execution_count": 13,
   "metadata": {},
   "outputs": [
    {
     "data": {
      "image/png": "[encoded data removed]",
      "text/plain": [
       "<Figure size 1080x576 with 1 Axes>"
      ]
     },
     "metadata": {},
     "output_type": "display_data"
    }
   ],
   "source": [
    "industry = data['IndustryVertical'].value_counts().head(15)\n",
    "plt.figure(figsize=(15,8))\n",
    "sns.barplot(industry.index, industry.values, color=color[0])\n",
    "plt.xticks(rotation=90)\n",
    "plt.ylabel('Number of fundings made', fontsize=12)\n",
    "plt.title(\"Industry vertical of startups with number of funding\", fontsize=16)\n",
    "plt.show()"
   ]
  },
  {
   "cell_type": "markdown",
   "metadata": {},
   "source": [
    "На тренды манипуляции не повлияли, но зато теперь картина более правдивая чем раньше"
   ]
  },
  {
   "cell_type": "markdown",
   "metadata": {},
   "source": [
    "## Посмотрим теперь на популярность вложений по подкатегориям"
   ]
  },
  {
   "cell_type": "code",
   "execution_count": 14,
   "metadata": {},
   "outputs": [
    {
     "data": {
      "image/png": "[encoded data removed]",
      "text/plain": [
       "<Figure size 1080x576 with 1 Axes>"
      ]
     },
     "metadata": {},
     "output_type": "display_data"
    }
   ],
   "source": [
    "industry = data['SubVertical'].value_counts().head(20)\n",
    "plt.figure(figsize=(15,8))\n",
    "sns.barplot(industry.index, industry.values, color=color[0])\n",
    "plt.xticks(rotation=60)\n",
    "plt.ylabel('Number of fundings made', fontsize=12)\n",
    "plt.title(\"Industry subvertical of startups with number of funding\", fontsize=16)\n",
    "plt.show()"
   ]
  },
  {
   "cell_type": "markdown",
   "metadata": {},
   "source": [
    "### Видно что самыми популярными являются Аптечные услуги онлайн и Платформы доставки еды. Затем идут Онлайн платформы займа и обучения. Заметен тренд популярности онлайн платформ"
   ]
  },
  {
   "cell_type": "markdown",
   "metadata": {},
   "source": [
    "## Посмотрим на типы инвестиций"
   ]
  },
  {
   "cell_type": "code",
   "execution_count": 15,
   "metadata": {},
   "outputs": [
    {
     "data": {
      "text/plain": [
       "Seed Funding      1271\n",
       "Private Equity    1066\n",
       "SeedFunding         30\n",
       "PrivateEquity        1\n",
       "Crowd funding        1\n",
       "Debt Funding         1\n",
       "Crowd Funding        1\n",
       "Name: InvestmentType, dtype: int64"
      ]
     },
     "execution_count": 15,
     "metadata": {},
     "output_type": "execute_result"
    }
   ],
   "source": [
    "data.InvestmentType.value_counts()"
   ]
  },
  {
   "cell_type": "markdown",
   "metadata": {},
   "source": [
    "Заметно что есть опечатки. Исправим их"
   ]
  },
  {
   "cell_type": "code",
   "execution_count": 26,
   "metadata": {},
   "outputs": [],
   "source": [
    "data['InvestmentType'] = data['InvestmentType'].str.replace('SeedFunding', 'Seed Funding'\n",
    "                                              ).str.replace('PrivateEquity', 'Private Equity')"
   ]
  },
  {
   "cell_type": "code",
   "execution_count": 17,
   "metadata": {},
   "outputs": [
    {
     "data": {
      "image/png": "[encoded data removed]",
      "text/plain": [
       "<Figure size 432x288 with 1 Axes>"
      ]
     },
     "metadata": {},
     "output_type": "display_data"
    }
   ],
   "source": [
    "funds = data['InvestmentType'].value_counts()\n",
    "sns.barplot(funds.index, funds.values, color=color[0])\n",
    "plt.xticks(rotation=30)\n",
    "plt.ylabel('Number of fundings made', fontsize=12)\n",
    "plt.title(\"Investment Type with number of funding\", fontsize=16)\n",
    "plt.show()"
   ]
  },
  {
   "cell_type": "markdown",
   "metadata": {},
   "source": [
    "### Самыми популярными являются Seed Funding и Private Equity"
   ]
  },
  {
   "cell_type": "code",
   "execution_count": 18,
   "metadata": {},
   "outputs": [
    {
     "data": {
      "text/html": [
       "<div>\n",
       "<style scoped>\n",
       "    .dataframe tbody tr th:only-of-type {\n",
       "        vertical-align: middle;\n",
       "    }\n",
       "\n",
       "    .dataframe tbody tr th {\n",
       "        vertical-align: top;\n",
       "    }\n",
       "\n",
       "    .dataframe thead th {\n",
       "        text-align: right;\n",
       "    }\n",
       "</style>\n",
       "<table border=\"1\" class=\"dataframe\">\n",
       "  <thead>\n",
       "    <tr style=\"text-align: right;\">\n",
       "      <th></th>\n",
       "      <th>AmountInUSD</th>\n",
       "    </tr>\n",
       "  </thead>\n",
       "  <tbody>\n",
       "    <tr>\n",
       "      <th>count</th>\n",
       "      <td>1.525000e+03</td>\n",
       "    </tr>\n",
       "    <tr>\n",
       "      <th>mean</th>\n",
       "      <td>1.203107e+07</td>\n",
       "    </tr>\n",
       "    <tr>\n",
       "      <th>std</th>\n",
       "      <td>6.403118e+07</td>\n",
       "    </tr>\n",
       "    <tr>\n",
       "      <th>min</th>\n",
       "      <td>1.600000e+04</td>\n",
       "    </tr>\n",
       "    <tr>\n",
       "      <th>25%</th>\n",
       "      <td>3.700000e+05</td>\n",
       "    </tr>\n",
       "    <tr>\n",
       "      <th>50%</th>\n",
       "      <td>1.070000e+06</td>\n",
       "    </tr>\n",
       "    <tr>\n",
       "      <th>75%</th>\n",
       "      <td>6.000000e+06</td>\n",
       "    </tr>\n",
       "    <tr>\n",
       "      <th>max</th>\n",
       "      <td>1.400000e+09</td>\n",
       "    </tr>\n",
       "  </tbody>\n",
       "</table>\n",
       "</div>"
      ],
      "text/plain": [
       "        AmountInUSD\n",
       "count  1.525000e+03\n",
       "mean   1.203107e+07\n",
       "std    6.403118e+07\n",
       "min    1.600000e+04\n",
       "25%    3.700000e+05\n",
       "50%    1.070000e+06\n",
       "75%    6.000000e+06\n",
       "max    1.400000e+09"
      ]
     },
     "execution_count": 18,
     "metadata": {},
     "output_type": "execute_result"
    }
   ],
   "source": [
    "data.describe()"
   ]
  },
  {
   "cell_type": "markdown",
   "metadata": {},
   "source": [
    "### Максимальная инвестиция - 1400000000 USD, Минимальная - 16000 USD. Среднее -  12031073 USD"
   ]
  },
  {
   "cell_type": "markdown",
   "metadata": {},
   "source": [
    " ## Посмотрим на распределение суммы инвестирования\n",
    " (логарифмирование позволяет оставлять значимыми различия между небольшими значениями и делать менее значимыми различия между большими)"
   ]
  },
  {
   "cell_type": "code",
   "execution_count": 19,
   "metadata": {},
   "outputs": [
    {
     "name": "stderr",
     "output_type": "stream",
     "text": [
      "c:\\program files (x86)\\python36-32\\lib\\site-packages\\matplotlib\\axes\\_axes.py:6448: UserWarning: The 'normed' kwarg is deprecated, and has been replaced by the 'density' kwarg.\n",
      "  warnings.warn(\"The 'normed' kwarg is deprecated, and has been \"\n"
     ]
    },
    {
     "data": {
      "image/png": "[encoded data removed]",
      "text/plain": [
       "<Figure size 1080x576 with 1 Axes>"
      ]
     },
     "metadata": {},
     "output_type": "display_data"
    }
   ],
   "source": [
    "data['AmountInUSD_log'] = np.log(data[\"AmountInUSD\"])\n",
    "\n",
    "plt.figure(figsize=(15,8))\n",
    "sns.distplot(data['AmountInUSD_log'].dropna())\n",
    "plt.title(\"Log Hist of investment in USD\", fontsize=16)\n",
    "plt.show()"
   ]
  },
  {
   "cell_type": "markdown",
   "metadata": {},
   "source": [
    "### Заметно что распределение похоже на нормальное (распределение Гаусса)"
   ]
  },
  {
   "cell_type": "markdown",
   "metadata": {},
   "source": [
    "## Посмотрим на стартапы которые получили максимальные и минимальные суммы инвестирования"
   ]
  },
  {
   "cell_type": "code",
   "execution_count": 20,
   "metadata": {},
   "outputs": [
    {
     "data": {
      "text/html": [
       "<div>\n",
       "<style scoped>\n",
       "    .dataframe tbody tr th:only-of-type {\n",
       "        vertical-align: middle;\n",
       "    }\n",
       "\n",
       "    .dataframe tbody tr th {\n",
       "        vertical-align: top;\n",
       "    }\n",
       "\n",
       "    .dataframe thead th {\n",
       "        text-align: right;\n",
       "    }\n",
       "</style>\n",
       "<table border=\"1\" class=\"dataframe\">\n",
       "  <thead>\n",
       "    <tr style=\"text-align: right;\">\n",
       "      <th></th>\n",
       "      <th>Date</th>\n",
       "      <th>StartupName</th>\n",
       "      <th>IndustryVertical</th>\n",
       "      <th>SubVertical</th>\n",
       "      <th>CityLocation</th>\n",
       "      <th>InvestorsName</th>\n",
       "      <th>InvestmentType</th>\n",
       "      <th>AmountInUSD</th>\n",
       "      <th>AmountInUSD_log</th>\n",
       "    </tr>\n",
       "    <tr>\n",
       "      <th>SNo</th>\n",
       "      <th></th>\n",
       "      <th></th>\n",
       "      <th></th>\n",
       "      <th></th>\n",
       "      <th></th>\n",
       "      <th></th>\n",
       "      <th></th>\n",
       "      <th></th>\n",
       "      <th></th>\n",
       "    </tr>\n",
       "  </thead>\n",
       "  <tbody>\n",
       "    <tr>\n",
       "      <th>158</th>\n",
       "      <td>2017-05-18</td>\n",
       "      <td>Paytm</td>\n",
       "      <td>ECommerce</td>\n",
       "      <td>Mobile Wallet &amp; ECommerce platform</td>\n",
       "      <td>Bangalore</td>\n",
       "      <td>SoftBank Group</td>\n",
       "      <td>Private Equity</td>\n",
       "      <td>1.400000e+09</td>\n",
       "      <td>21.059738</td>\n",
       "    </tr>\n",
       "    <tr>\n",
       "      <th>294</th>\n",
       "      <td>2017-03-21</td>\n",
       "      <td>Flipkart</td>\n",
       "      <td>ECommerce</td>\n",
       "      <td>ECommerce Marketplace</td>\n",
       "      <td>Bangalore</td>\n",
       "      <td>Microsoft, eBay, Tencent Holdings</td>\n",
       "      <td>Private Equity</td>\n",
       "      <td>1.400000e+09</td>\n",
       "      <td>21.059738</td>\n",
       "    </tr>\n",
       "  </tbody>\n",
       "</table>\n",
       "</div>"
      ],
      "text/plain": [
       "          Date StartupName IndustryVertical  \\\n",
       "SNo                                           \n",
       "158 2017-05-18       Paytm        ECommerce   \n",
       "294 2017-03-21    Flipkart        ECommerce   \n",
       "\n",
       "                            SubVertical CityLocation  \\\n",
       "SNo                                                    \n",
       "158  Mobile Wallet & ECommerce platform    Bangalore   \n",
       "294               ECommerce Marketplace    Bangalore   \n",
       "\n",
       "                         InvestorsName  InvestmentType   AmountInUSD  \\\n",
       "SNo                                                                    \n",
       "158                     SoftBank Group  Private Equity  1.400000e+09   \n",
       "294  Microsoft, eBay, Tencent Holdings  Private Equity  1.400000e+09   \n",
       "\n",
       "     AmountInUSD_log  \n",
       "SNo                   \n",
       "158        21.059738  \n",
       "294        21.059738  "
      ]
     },
     "execution_count": 20,
     "metadata": {},
     "output_type": "execute_result"
    }
   ],
   "source": [
    "data[data['AmountInUSD'] == 1.400000e+09]"
   ]
  },
  {
   "cell_type": "code",
   "execution_count": 21,
   "metadata": {},
   "outputs": [
    {
     "data": {
      "text/html": [
       "<div>\n",
       "<style scoped>\n",
       "    .dataframe tbody tr th:only-of-type {\n",
       "        vertical-align: middle;\n",
       "    }\n",
       "\n",
       "    .dataframe tbody tr th {\n",
       "        vertical-align: top;\n",
       "    }\n",
       "\n",
       "    .dataframe thead th {\n",
       "        text-align: right;\n",
       "    }\n",
       "</style>\n",
       "<table border=\"1\" class=\"dataframe\">\n",
       "  <thead>\n",
       "    <tr style=\"text-align: right;\">\n",
       "      <th></th>\n",
       "      <th>Date</th>\n",
       "      <th>StartupName</th>\n",
       "      <th>IndustryVertical</th>\n",
       "      <th>SubVertical</th>\n",
       "      <th>CityLocation</th>\n",
       "      <th>InvestorsName</th>\n",
       "      <th>InvestmentType</th>\n",
       "      <th>AmountInUSD</th>\n",
       "      <th>AmountInUSD_log</th>\n",
       "    </tr>\n",
       "    <tr>\n",
       "      <th>SNo</th>\n",
       "      <th></th>\n",
       "      <th></th>\n",
       "      <th></th>\n",
       "      <th></th>\n",
       "      <th></th>\n",
       "      <th></th>\n",
       "      <th></th>\n",
       "      <th></th>\n",
       "      <th></th>\n",
       "    </tr>\n",
       "  </thead>\n",
       "  <tbody>\n",
       "    <tr>\n",
       "      <th>2345</th>\n",
       "      <td>2015-01-19</td>\n",
       "      <td>Hostel Dunia</td>\n",
       "      <td>NaN</td>\n",
       "      <td>NaN</td>\n",
       "      <td>NaN</td>\n",
       "      <td>Hyderabad Angels (at Startup Heroes event)</td>\n",
       "      <td>Seed Funding</td>\n",
       "      <td>16000.0</td>\n",
       "      <td>9.680344</td>\n",
       "    </tr>\n",
       "    <tr>\n",
       "      <th>2346</th>\n",
       "      <td>2015-01-19</td>\n",
       "      <td>Play your sport</td>\n",
       "      <td>NaN</td>\n",
       "      <td>NaN</td>\n",
       "      <td>NaN</td>\n",
       "      <td>Hyderabad Angels (at Startup Heroes event)</td>\n",
       "      <td>Seed Funding</td>\n",
       "      <td>16000.0</td>\n",
       "      <td>9.680344</td>\n",
       "    </tr>\n",
       "    <tr>\n",
       "      <th>2347</th>\n",
       "      <td>2015-01-19</td>\n",
       "      <td>Yo Grad</td>\n",
       "      <td>NaN</td>\n",
       "      <td>NaN</td>\n",
       "      <td>NaN</td>\n",
       "      <td>Hyderabad Angels (at Startup Heroes event)</td>\n",
       "      <td>Seed Funding</td>\n",
       "      <td>16000.0</td>\n",
       "      <td>9.680344</td>\n",
       "    </tr>\n",
       "    <tr>\n",
       "      <th>2348</th>\n",
       "      <td>2015-01-19</td>\n",
       "      <td>Enabli</td>\n",
       "      <td>NaN</td>\n",
       "      <td>NaN</td>\n",
       "      <td>NaN</td>\n",
       "      <td>Hyderabad Angels (at Startup Heroes event)</td>\n",
       "      <td>Seed Funding</td>\n",
       "      <td>16000.0</td>\n",
       "      <td>9.680344</td>\n",
       "    </tr>\n",
       "    <tr>\n",
       "      <th>2349</th>\n",
       "      <td>2015-01-19</td>\n",
       "      <td>CBS</td>\n",
       "      <td>NaN</td>\n",
       "      <td>NaN</td>\n",
       "      <td>NaN</td>\n",
       "      <td>Hyderabad Angels (at Startup Heroes event)</td>\n",
       "      <td>Seed Funding</td>\n",
       "      <td>16000.0</td>\n",
       "      <td>9.680344</td>\n",
       "    </tr>\n",
       "  </tbody>\n",
       "</table>\n",
       "</div>"
      ],
      "text/plain": [
       "           Date      StartupName IndustryVertical SubVertical CityLocation  \\\n",
       "SNo                                                                          \n",
       "2345 2015-01-19     Hostel Dunia              NaN         NaN          NaN   \n",
       "2346 2015-01-19  Play your sport              NaN         NaN          NaN   \n",
       "2347 2015-01-19          Yo Grad              NaN         NaN          NaN   \n",
       "2348 2015-01-19           Enabli              NaN         NaN          NaN   \n",
       "2349 2015-01-19              CBS              NaN         NaN          NaN   \n",
       "\n",
       "                                   InvestorsName InvestmentType  AmountInUSD  \\\n",
       "SNo                                                                            \n",
       "2345  Hyderabad Angels (at Startup Heroes event)   Seed Funding      16000.0   \n",
       "2346  Hyderabad Angels (at Startup Heroes event)   Seed Funding      16000.0   \n",
       "2347  Hyderabad Angels (at Startup Heroes event)   Seed Funding      16000.0   \n",
       "2348  Hyderabad Angels (at Startup Heroes event)   Seed Funding      16000.0   \n",
       "2349  Hyderabad Angels (at Startup Heroes event)   Seed Funding      16000.0   \n",
       "\n",
       "      AmountInUSD_log  \n",
       "SNo                    \n",
       "2345         9.680344  \n",
       "2346         9.680344  \n",
       "2347         9.680344  \n",
       "2348         9.680344  \n",
       "2349         9.680344  "
      ]
     },
     "execution_count": 21,
     "metadata": {},
     "output_type": "execute_result"
    }
   ],
   "source": [
    "data[data['AmountInUSD'] == 1.600000e+04]"
   ]
  },
  {
   "cell_type": "markdown",
   "metadata": {},
   "source": [
    "Посмотрим побольше на Hyderabad Angels (at Startup Heroes event)"
   ]
  },
  {
   "cell_type": "code",
   "execution_count": 22,
   "metadata": {},
   "outputs": [
    {
     "data": {
      "text/html": [
       "<div>\n",
       "<style scoped>\n",
       "    .dataframe tbody tr th:only-of-type {\n",
       "        vertical-align: middle;\n",
       "    }\n",
       "\n",
       "    .dataframe tbody tr th {\n",
       "        vertical-align: top;\n",
       "    }\n",
       "\n",
       "    .dataframe thead th {\n",
       "        text-align: right;\n",
       "    }\n",
       "</style>\n",
       "<table border=\"1\" class=\"dataframe\">\n",
       "  <thead>\n",
       "    <tr style=\"text-align: right;\">\n",
       "      <th></th>\n",
       "      <th>Date</th>\n",
       "      <th>StartupName</th>\n",
       "      <th>IndustryVertical</th>\n",
       "      <th>SubVertical</th>\n",
       "      <th>CityLocation</th>\n",
       "      <th>InvestorsName</th>\n",
       "      <th>InvestmentType</th>\n",
       "      <th>AmountInUSD</th>\n",
       "      <th>AmountInUSD_log</th>\n",
       "    </tr>\n",
       "    <tr>\n",
       "      <th>SNo</th>\n",
       "      <th></th>\n",
       "      <th></th>\n",
       "      <th></th>\n",
       "      <th></th>\n",
       "      <th></th>\n",
       "      <th></th>\n",
       "      <th></th>\n",
       "      <th></th>\n",
       "      <th></th>\n",
       "    </tr>\n",
       "  </thead>\n",
       "  <tbody>\n",
       "    <tr>\n",
       "      <th>2345</th>\n",
       "      <td>2015-01-19</td>\n",
       "      <td>Hostel Dunia</td>\n",
       "      <td>NaN</td>\n",
       "      <td>NaN</td>\n",
       "      <td>NaN</td>\n",
       "      <td>Hyderabad Angels (at Startup Heroes event)</td>\n",
       "      <td>Seed Funding</td>\n",
       "      <td>16000.0</td>\n",
       "      <td>9.680344</td>\n",
       "    </tr>\n",
       "    <tr>\n",
       "      <th>2346</th>\n",
       "      <td>2015-01-19</td>\n",
       "      <td>Play your sport</td>\n",
       "      <td>NaN</td>\n",
       "      <td>NaN</td>\n",
       "      <td>NaN</td>\n",
       "      <td>Hyderabad Angels (at Startup Heroes event)</td>\n",
       "      <td>Seed Funding</td>\n",
       "      <td>16000.0</td>\n",
       "      <td>9.680344</td>\n",
       "    </tr>\n",
       "    <tr>\n",
       "      <th>2347</th>\n",
       "      <td>2015-01-19</td>\n",
       "      <td>Yo Grad</td>\n",
       "      <td>NaN</td>\n",
       "      <td>NaN</td>\n",
       "      <td>NaN</td>\n",
       "      <td>Hyderabad Angels (at Startup Heroes event)</td>\n",
       "      <td>Seed Funding</td>\n",
       "      <td>16000.0</td>\n",
       "      <td>9.680344</td>\n",
       "    </tr>\n",
       "    <tr>\n",
       "      <th>2348</th>\n",
       "      <td>2015-01-19</td>\n",
       "      <td>Enabli</td>\n",
       "      <td>NaN</td>\n",
       "      <td>NaN</td>\n",
       "      <td>NaN</td>\n",
       "      <td>Hyderabad Angels (at Startup Heroes event)</td>\n",
       "      <td>Seed Funding</td>\n",
       "      <td>16000.0</td>\n",
       "      <td>9.680344</td>\n",
       "    </tr>\n",
       "    <tr>\n",
       "      <th>2349</th>\n",
       "      <td>2015-01-19</td>\n",
       "      <td>CBS</td>\n",
       "      <td>NaN</td>\n",
       "      <td>NaN</td>\n",
       "      <td>NaN</td>\n",
       "      <td>Hyderabad Angels (at Startup Heroes event)</td>\n",
       "      <td>Seed Funding</td>\n",
       "      <td>16000.0</td>\n",
       "      <td>9.680344</td>\n",
       "    </tr>\n",
       "  </tbody>\n",
       "</table>\n",
       "</div>"
      ],
      "text/plain": [
       "           Date      StartupName IndustryVertical SubVertical CityLocation  \\\n",
       "SNo                                                                          \n",
       "2345 2015-01-19     Hostel Dunia              NaN         NaN          NaN   \n",
       "2346 2015-01-19  Play your sport              NaN         NaN          NaN   \n",
       "2347 2015-01-19          Yo Grad              NaN         NaN          NaN   \n",
       "2348 2015-01-19           Enabli              NaN         NaN          NaN   \n",
       "2349 2015-01-19              CBS              NaN         NaN          NaN   \n",
       "\n",
       "                                   InvestorsName InvestmentType  AmountInUSD  \\\n",
       "SNo                                                                            \n",
       "2345  Hyderabad Angels (at Startup Heroes event)   Seed Funding      16000.0   \n",
       "2346  Hyderabad Angels (at Startup Heroes event)   Seed Funding      16000.0   \n",
       "2347  Hyderabad Angels (at Startup Heroes event)   Seed Funding      16000.0   \n",
       "2348  Hyderabad Angels (at Startup Heroes event)   Seed Funding      16000.0   \n",
       "2349  Hyderabad Angels (at Startup Heroes event)   Seed Funding      16000.0   \n",
       "\n",
       "      AmountInUSD_log  \n",
       "SNo                    \n",
       "2345         9.680344  \n",
       "2346         9.680344  \n",
       "2347         9.680344  \n",
       "2348         9.680344  \n",
       "2349         9.680344  "
      ]
     },
     "execution_count": 22,
     "metadata": {},
     "output_type": "execute_result"
    }
   ],
   "source": [
    "data[data['InvestorsName'] == 'Hyderabad Angels (at Startup Heroes event)']"
   ]
  },
  {
   "cell_type": "markdown",
   "metadata": {},
   "source": [
    "### Видно что Hyderabad Angels (at Startup Heroes event) инвестировали минимальные суммы во время эвента стартапов, но зато сразу в 5 стартапов"
   ]
  },
  {
   "cell_type": "markdown",
   "metadata": {},
   "source": [
    "## Посмотрим сколько всего денег инвестировали в стартапы и посмотрим на самые инвестируемые из них"
   ]
  },
  {
   "cell_type": "code",
   "execution_count": 23,
   "metadata": {},
   "outputs": [
    {
     "data": {
      "image/png": "[encoded data removed]",
      "text/plain": [
       "<Figure size 1080x576 with 1 Axes>"
      ]
     },
     "metadata": {},
     "output_type": "display_data"
    }
   ],
   "source": [
    "plt.figure(figsize=(15,8))\n",
    "startup_funds = data.groupby(['StartupName'])['AmountInUSD'].agg(np.sum).sort_values(ascending = False).head(20)\n",
    "sns.barplot(startup_funds.index, startup_funds.values, color=color[0])\n",
    "plt.xticks(rotation='vertical')\n",
    "plt.ylabel('Amount of money in USD', fontsize=12)\n",
    "plt.title('Most funded startups with amount of total funds', fontsize=12)\n",
    "plt.show()"
   ]
  },
  {
   "cell_type": "markdown",
   "metadata": {},
   "source": [
    "### Посмотрим поближе на топ3"
   ]
  },
  {
   "cell_type": "code",
   "execution_count": 30,
   "metadata": {},
   "outputs": [
    {
     "data": {
      "text/html": [
       "<div>\n",
       "<style scoped>\n",
       "    .dataframe tbody tr th:only-of-type {\n",
       "        vertical-align: middle;\n",
       "    }\n",
       "\n",
       "    .dataframe tbody tr th {\n",
       "        vertical-align: top;\n",
       "    }\n",
       "\n",
       "    .dataframe thead th {\n",
       "        text-align: right;\n",
       "    }\n",
       "</style>\n",
       "<table border=\"1\" class=\"dataframe\">\n",
       "  <thead>\n",
       "    <tr style=\"text-align: right;\">\n",
       "      <th></th>\n",
       "      <th>Date</th>\n",
       "      <th>StartupName</th>\n",
       "      <th>IndustryVertical</th>\n",
       "      <th>SubVertical</th>\n",
       "      <th>CityLocation</th>\n",
       "      <th>InvestorsName</th>\n",
       "      <th>InvestmentType</th>\n",
       "      <th>AmountInUSD</th>\n",
       "      <th>AmountInUSD_log</th>\n",
       "      <th>InvestorsName_lower</th>\n",
       "    </tr>\n",
       "    <tr>\n",
       "      <th>SNo</th>\n",
       "      <th></th>\n",
       "      <th></th>\n",
       "      <th></th>\n",
       "      <th></th>\n",
       "      <th></th>\n",
       "      <th></th>\n",
       "      <th></th>\n",
       "      <th></th>\n",
       "      <th></th>\n",
       "      <th></th>\n",
       "    </tr>\n",
       "  </thead>\n",
       "  <tbody>\n",
       "    <tr>\n",
       "      <th>158</th>\n",
       "      <td>2017-05-18</td>\n",
       "      <td>Paytm</td>\n",
       "      <td>ECommerce</td>\n",
       "      <td>Mobile Wallet &amp; ECommerce platform</td>\n",
       "      <td>Bangalore</td>\n",
       "      <td>SoftBank Group</td>\n",
       "      <td>Private Equity</td>\n",
       "      <td>1.400000e+09</td>\n",
       "      <td>21.059738</td>\n",
       "      <td>softbank group</td>\n",
       "    </tr>\n",
       "    <tr>\n",
       "      <th>821</th>\n",
       "      <td>2016-08-30</td>\n",
       "      <td>Paytm</td>\n",
       "      <td>ECommerce</td>\n",
       "      <td>Mobile Wallet &amp; ECommerce platform</td>\n",
       "      <td>Bangalore</td>\n",
       "      <td>MediaTek Inc.</td>\n",
       "      <td>Private Equity</td>\n",
       "      <td>6.000000e+07</td>\n",
       "      <td>17.909855</td>\n",
       "      <td>mediatek inc.</td>\n",
       "    </tr>\n",
       "    <tr>\n",
       "      <th>1787</th>\n",
       "      <td>2015-09-29</td>\n",
       "      <td>Paytm</td>\n",
       "      <td>E-Commerce &amp; M-Commerce platform</td>\n",
       "      <td>NaN</td>\n",
       "      <td>New Delhi</td>\n",
       "      <td>Alibaba Group, Ant Financial</td>\n",
       "      <td>Private Equity</td>\n",
       "      <td>6.800000e+08</td>\n",
       "      <td>20.337603</td>\n",
       "      <td>alibaba group, ant financial</td>\n",
       "    </tr>\n",
       "    <tr>\n",
       "      <th>2218</th>\n",
       "      <td>2015-03-13</td>\n",
       "      <td>Paytm</td>\n",
       "      <td>NaN</td>\n",
       "      <td>NaN</td>\n",
       "      <td>NaN</td>\n",
       "      <td>Ratan Tata</td>\n",
       "      <td>Private Equity</td>\n",
       "      <td>NaN</td>\n",
       "      <td>NaN</td>\n",
       "      <td>ratan tata</td>\n",
       "    </tr>\n",
       "    <tr>\n",
       "      <th>2276</th>\n",
       "      <td>2015-02-05</td>\n",
       "      <td>Paytm</td>\n",
       "      <td>NaN</td>\n",
       "      <td>NaN</td>\n",
       "      <td>NaN</td>\n",
       "      <td>Ant Financial Services (Alipay)</td>\n",
       "      <td>Private Equity</td>\n",
       "      <td>NaN</td>\n",
       "      <td>NaN</td>\n",
       "      <td>ant financial services (alipay)</td>\n",
       "    </tr>\n",
       "    <tr>\n",
       "      <th>101</th>\n",
       "      <td>2017-06-26</td>\n",
       "      <td>Flipkart</td>\n",
       "      <td>ECommerce</td>\n",
       "      <td>Online marketplace</td>\n",
       "      <td>Bangalore</td>\n",
       "      <td>Naspers</td>\n",
       "      <td>Private Equity</td>\n",
       "      <td>7.100000e+07</td>\n",
       "      <td>18.078190</td>\n",
       "      <td>naspers</td>\n",
       "    </tr>\n",
       "    <tr>\n",
       "      <th>294</th>\n",
       "      <td>2017-03-21</td>\n",
       "      <td>Flipkart</td>\n",
       "      <td>ECommerce</td>\n",
       "      <td>ECommerce Marketplace</td>\n",
       "      <td>Bangalore</td>\n",
       "      <td>Microsoft, eBay, Tencent Holdings</td>\n",
       "      <td>Private Equity</td>\n",
       "      <td>1.400000e+09</td>\n",
       "      <td>21.059738</td>\n",
       "      <td>microsoft, ebay, tencent holdings</td>\n",
       "    </tr>\n",
       "    <tr>\n",
       "      <th>360</th>\n",
       "      <td>2017-02-20</td>\n",
       "      <td>Flipkart</td>\n",
       "      <td>ECommerce</td>\n",
       "      <td>Online Marketplace</td>\n",
       "      <td>Bangalore</td>\n",
       "      <td>Bennett, Coleman and Co. Ltd (BCCL)</td>\n",
       "      <td>Private Equity</td>\n",
       "      <td>3.870000e+07</td>\n",
       "      <td>17.471350</td>\n",
       "      <td>bennett, coleman and co. ltd (bccl)</td>\n",
       "    </tr>\n",
       "    <tr>\n",
       "      <th>2017</th>\n",
       "      <td>2015-06-04</td>\n",
       "      <td>Flipkart</td>\n",
       "      <td>eCommerce platform</td>\n",
       "      <td>NaN</td>\n",
       "      <td>Bangalore</td>\n",
       "      <td>Morgan Stanley</td>\n",
       "      <td>Private Equity</td>\n",
       "      <td>5.000000e+07</td>\n",
       "      <td>17.727534</td>\n",
       "      <td>morgan stanley</td>\n",
       "    </tr>\n",
       "    <tr>\n",
       "      <th>76</th>\n",
       "      <td>2017-06-14</td>\n",
       "      <td>Ola</td>\n",
       "      <td>Consumer Internet</td>\n",
       "      <td>Cab Aggregation App</td>\n",
       "      <td>Bangalore</td>\n",
       "      <td>Tekne Capital Management LLC</td>\n",
       "      <td>Private Equity</td>\n",
       "      <td>5.000000e+07</td>\n",
       "      <td>17.727534</td>\n",
       "      <td>tekne capital management llc</td>\n",
       "    </tr>\n",
       "    <tr>\n",
       "      <th>119</th>\n",
       "      <td>2017-05-03</td>\n",
       "      <td>Ola</td>\n",
       "      <td>Consumer Internet</td>\n",
       "      <td>Cab Aggregation App</td>\n",
       "      <td>Bangalore</td>\n",
       "      <td>Falcon Edge Capital,  Capital Advisers</td>\n",
       "      <td>Private Equity</td>\n",
       "      <td>1.045000e+08</td>\n",
       "      <td>18.464698</td>\n",
       "      <td>falcon edge capital,  capital advisers</td>\n",
       "    </tr>\n",
       "    <tr>\n",
       "      <th>252</th>\n",
       "      <td>2017-03-01</td>\n",
       "      <td>Ola</td>\n",
       "      <td>Consumer Internet</td>\n",
       "      <td>App based cab aggregator</td>\n",
       "      <td>Bangalore</td>\n",
       "      <td>SoftBank Group Corp</td>\n",
       "      <td>Private Equity</td>\n",
       "      <td>3.300000e+08</td>\n",
       "      <td>19.614603</td>\n",
       "      <td>softbank group corp</td>\n",
       "    </tr>\n",
       "    <tr>\n",
       "      <th>1572</th>\n",
       "      <td>2015-11-18</td>\n",
       "      <td>Ola</td>\n",
       "      <td>Car Aggregator &amp; Retail Mobile App</td>\n",
       "      <td>NaN</td>\n",
       "      <td>Bangalore</td>\n",
       "      <td>Baillie Gifford, Falcon Edge Capital, Tiger Gl...</td>\n",
       "      <td>Private Equity</td>\n",
       "      <td>5.000000e+08</td>\n",
       "      <td>20.030119</td>\n",
       "      <td>baillie gifford, falcon edge capital, tiger gl...</td>\n",
       "    </tr>\n",
       "  </tbody>\n",
       "</table>\n",
       "</div>"
      ],
      "text/plain": [
       "           Date StartupName                    IndustryVertical  \\\n",
       "SNo                                                               \n",
       "158  2017-05-18       Paytm                           ECommerce   \n",
       "821  2016-08-30       Paytm                           ECommerce   \n",
       "1787 2015-09-29       Paytm    E-Commerce & M-Commerce platform   \n",
       "2218 2015-03-13       Paytm                                 NaN   \n",
       "2276 2015-02-05       Paytm                                 NaN   \n",
       "101  2017-06-26    Flipkart                           ECommerce   \n",
       "294  2017-03-21    Flipkart                           ECommerce   \n",
       "360  2017-02-20    Flipkart                           ECommerce   \n",
       "2017 2015-06-04    Flipkart                  eCommerce platform   \n",
       "76   2017-06-14         Ola                   Consumer Internet   \n",
       "119  2017-05-03         Ola                   Consumer Internet   \n",
       "252  2017-03-01         Ola                   Consumer Internet   \n",
       "1572 2015-11-18         Ola  Car Aggregator & Retail Mobile App   \n",
       "\n",
       "                             SubVertical CityLocation  \\\n",
       "SNo                                                     \n",
       "158   Mobile Wallet & ECommerce platform    Bangalore   \n",
       "821   Mobile Wallet & ECommerce platform    Bangalore   \n",
       "1787                                 NaN    New Delhi   \n",
       "2218                                 NaN          NaN   \n",
       "2276                                 NaN          NaN   \n",
       "101                   Online marketplace    Bangalore   \n",
       "294                ECommerce Marketplace    Bangalore   \n",
       "360                   Online Marketplace    Bangalore   \n",
       "2017                                 NaN    Bangalore   \n",
       "76                   Cab Aggregation App    Bangalore   \n",
       "119                  Cab Aggregation App    Bangalore   \n",
       "252             App based cab aggregator    Bangalore   \n",
       "1572                                 NaN    Bangalore   \n",
       "\n",
       "                                          InvestorsName  InvestmentType  \\\n",
       "SNo                                                                       \n",
       "158                                      SoftBank Group  Private Equity   \n",
       "821                                       MediaTek Inc.  Private Equity   \n",
       "1787                       Alibaba Group, Ant Financial  Private Equity   \n",
       "2218                                         Ratan Tata  Private Equity   \n",
       "2276                    Ant Financial Services (Alipay)  Private Equity   \n",
       "101                                             Naspers  Private Equity   \n",
       "294                   Microsoft, eBay, Tencent Holdings  Private Equity   \n",
       "360                 Bennett, Coleman and Co. Ltd (BCCL)  Private Equity   \n",
       "2017                                     Morgan Stanley  Private Equity   \n",
       "76                         Tekne Capital Management LLC  Private Equity   \n",
       "119              Falcon Edge Capital,  Capital Advisers  Private Equity   \n",
       "252                                 SoftBank Group Corp  Private Equity   \n",
       "1572  Baillie Gifford, Falcon Edge Capital, Tiger Gl...  Private Equity   \n",
       "\n",
       "       AmountInUSD  AmountInUSD_log  \\\n",
       "SNo                                   \n",
       "158   1.400000e+09        21.059738   \n",
       "821   6.000000e+07        17.909855   \n",
       "1787  6.800000e+08        20.337603   \n",
       "2218           NaN              NaN   \n",
       "2276           NaN              NaN   \n",
       "101   7.100000e+07        18.078190   \n",
       "294   1.400000e+09        21.059738   \n",
       "360   3.870000e+07        17.471350   \n",
       "2017  5.000000e+07        17.727534   \n",
       "76    5.000000e+07        17.727534   \n",
       "119   1.045000e+08        18.464698   \n",
       "252   3.300000e+08        19.614603   \n",
       "1572  5.000000e+08        20.030119   \n",
       "\n",
       "                                    InvestorsName_lower  \n",
       "SNo                                                      \n",
       "158                                      softbank group  \n",
       "821                                       mediatek inc.  \n",
       "1787                       alibaba group, ant financial  \n",
       "2218                                         ratan tata  \n",
       "2276                    ant financial services (alipay)  \n",
       "101                                             naspers  \n",
       "294                   microsoft, ebay, tencent holdings  \n",
       "360                 bennett, coleman and co. ltd (bccl)  \n",
       "2017                                     morgan stanley  \n",
       "76                         tekne capital management llc  \n",
       "119              falcon edge capital,  capital advisers  \n",
       "252                                 softbank group corp  \n",
       "1572  baillie gifford, falcon edge capital, tiger gl...  "
      ]
     },
     "execution_count": 30,
     "metadata": {},
     "output_type": "execute_result"
    }
   ],
   "source": [
    "Paytm = data[data['StartupName'] == 'Paytm']\n",
    "Flipkart = data[data['StartupName'] == 'Flipkart']\n",
    "Ola = data[data['StartupName'] == 'Ola']\n",
    "\n",
    "temp = [Paytm, Flipkart, Ola]\n",
    "pd.concat(temp)"
   ]
  },
  {
   "cell_type": "markdown",
   "metadata": {},
   "source": [
    "По категориям по подкатегориям можно предположить, что Paytm и Flipkart похожие стартапы. Видно что у каждого из них свои крупные инвесторы. Возможно в Paytm вложили больше денег чем мы можем увидеть в данных, потому что некоторые значения отсуствуют.\n",
    "\n",
    "Ola - по категории видно, что это Car Aggregator & Retail Mobile App, в который вложились несколько крупных компаний"
   ]
  },
  {
   "cell_type": "markdown",
   "metadata": {},
   "source": [
    "## Посмотрим на инвестором поближе и на количество их инвестиций\n",
    "(заранее заметив что в некоторых есть опечатки)"
   ]
  },
  {
   "cell_type": "code",
   "execution_count": 25,
   "metadata": {},
   "outputs": [
    {
     "data": {
      "image/png": "[encoded data removed]",
      "text/plain": [
       "<Figure size 1080x576 with 1 Axes>"
      ]
     },
     "metadata": {},
     "output_type": "display_data"
    }
   ],
   "source": [
    "data['InvestorsName_lower'] = data.InvestorsName.str.lower()\n",
    "investors = data['InvestorsName_lower'].replace('undisclosed investor', 'undisclosed investors')\n",
    "investors = investors.value_counts().head(15)\n",
    "\n",
    "plt.figure(figsize=(15,8))\n",
    "sns.barplot(investors.index, investors.values, color=color[0])\n",
    "plt.xticks(rotation=60)\n",
    "plt.ylabel('Number of investments', fontsize=12)\n",
    "plt.title('Investors with number of investments')\n",
    "plt.show()"
   ]
  },
  {
   "cell_type": "markdown",
   "metadata": {},
   "source": [
    "### Заметна тенденция среди инвесторов - скрывать свое имя. Возможно это сделано с целью не рекламировать лишний раз стартап, в который поверила известная фирма"
   ]
  }
 ],
 "metadata": {
  "kernelspec": {
   "display_name": "Python 3",
   "language": "python",
   "name": "python3"
  },
  "language_info": {
   "codemirror_mode": {
    "name": "ipython",
    "version": 3
   },
   "file_extension": ".py",
   "mimetype": "text/x-python",
   "name": "python",
   "nbconvert_exporter": "python",
   "pygments_lexer": "ipython3",
   "version": "3.6.4"
  }
 },
 "nbformat": 4,
 "nbformat_minor": 2
}
